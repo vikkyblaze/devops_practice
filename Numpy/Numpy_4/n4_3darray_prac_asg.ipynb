{
 "cells": [
  {
   "cell_type": "code",
   "execution_count": 13,
   "metadata": {},
   "outputs": [],
   "source": [
    "# 1.)\n",
    "# Problem Statement:\n",
    "\n",
    "# Given the row count of a square array and an integer number k,\n",
    "\n",
    "# return a 2D square array where\n",
    "\n",
    "# all diagonal elements are k and\n",
    "# all non-diagonal elements are 0.\n",
    "# Note: The returned 2D array should be of integer type.\n",
    "\n",
    "# Input Format:\n",
    "\n",
    "# Input has two lines.\n",
    "# First line corresponds to the row count.\n",
    "# Second line is the integer k.\n",
    "# Output Format:\n",
    "\n",
    "# A 2D square array\n",
    "# Sample Input:\n",
    "\n",
    "# 3\n",
    "# 300\n",
    "# Sample Output:\n",
    "\n",
    "# [[300, 0, 0],\n",
    "#  [0, 300, 0]\n",
    "#  [0, 0, 300]]\n",
    "# Note: We can use special arrays to solve this.\n",
    "\n",
    "import numpy as np\n",
    "cols=rows=3\n",
    "k=300\n",
    "\n",
    "a=np.zeros((cols,rows),dtype='int')\n"
   ]
  },
  {
   "cell_type": "code",
   "execution_count": 14,
   "metadata": {},
   "outputs": [
    {
     "data": {
      "text/plain": [
       "array([[0, 0, 0],\n",
       "       [0, 0, 0],\n",
       "       [0, 0, 0]])"
      ]
     },
     "execution_count": 14,
     "metadata": {},
     "output_type": "execute_result"
    }
   ],
   "source": [
    "a\n"
   ]
  },
  {
   "cell_type": "code",
   "execution_count": 26,
   "metadata": {},
   "outputs": [
    {
     "name": "stdout",
     "output_type": "stream",
     "text": [
      "None\n"
     ]
    }
   ],
   "source": [
    "b=None\n",
    "np.fill_diagonal(a,k)\n",
    "print(np.fill_diagonal(a,k))\n"
   ]
  },
  {
   "cell_type": "code",
   "execution_count": 20,
   "metadata": {},
   "outputs": [],
   "source": [
    "b\n"
   ]
  },
  {
   "cell_type": "code",
   "execution_count": null,
   "metadata": {},
   "outputs": [],
   "source": [
    "array = np.zeros((rows,cols), dtype=int)\n",
    "array =    np.fill_diagonal(array, k)  #not working\n"
   ]
  },
  {
   "cell_type": "code",
   "execution_count": 30,
   "metadata": {},
   "outputs": [
    {
     "data": {
      "text/plain": [
       "array([[300,   0,   0],\n",
       "       [  0, 300,   0],\n",
       "       [  0,   0, 300]])"
      ]
     },
     "execution_count": 30,
     "metadata": {},
     "output_type": "execute_result"
    }
   ],
   "source": [
    "np.eye(rows,dtype='int')*k\n"
   ]
  },
  {
   "cell_type": "code",
   "execution_count": 38,
   "metadata": {},
   "outputs": [
    {
     "data": {
      "text/plain": [
       "array([[1., 1., 1.],\n",
       "       [1., 1., 1.],\n",
       "       [1., 1., 1.]])"
      ]
     },
     "execution_count": 38,
     "metadata": {},
     "output_type": "execute_result"
    }
   ],
   "source": [
    "#What will be the outcome of the following code snippet ?\n",
    "\n",
    "d = np.ones((5,5))\n",
    "d\n",
    "d[1:-1,1:-1] \n",
    "# d\n"
   ]
  },
  {
   "cell_type": "code",
   "execution_count": 39,
   "metadata": {},
   "outputs": [
    {
     "data": {
      "text/plain": [
       "array(['sparrow', 'peacock', 'parrot', 'owl', 'peacock', 'macaw', 'macaw',\n",
       "       'parrot', 'macaw', 'peacock'], dtype='<U7')"
      ]
     },
     "execution_count": 39,
     "metadata": {},
     "output_type": "execute_result"
    }
   ],
   "source": [
    "# Given a array of bird names and another array with corresponding ages of the birds, find the name of the oldest bird in the list.\n",
    "\n",
    "# Input Format:\n",
    "\n",
    "# Input has two lines.\n",
    "# First line is the array of bird names (String).\n",
    "# Second line is the array of ages of the birds (Int).\n",
    "# Output Format:\n",
    "\n",
    "# string\n",
    "# Sample Input:\n",
    "\n",
    "# ['sparrow', 'peacock', 'parrot', 'owl', 'peacock', 'macaw', 'macaw', 'parrot', 'macaw', 'peacock']  \n",
    "# [6, 1, 6, 5, 7, 6, 0, 9, 0, 7]\n",
    "# Sample Output:\n",
    "\n",
    "# parrot\n",
    "# Explanation:\n",
    "\n",
    "# parrot has age 9 which is the max of all the ages in the array; therefore parrot is returned.\n",
    "# Note:\n",
    "\n",
    "# Recall how to get index of maximum element\n",
    "\n",
    "birds=np.array(['sparrow', 'peacock', 'parrot', 'owl', 'peacock', 'macaw', 'macaw', 'parrot', 'macaw', 'peacock']  )\n",
    "birds\n"
   ]
  },
  {
   "cell_type": "code",
   "execution_count": 40,
   "metadata": {},
   "outputs": [],
   "source": [
    "ages= np.array([6, 1, 6, 5, 7, 6, 0, 9, 0, 7])\n"
   ]
  },
  {
   "cell_type": "code",
   "execution_count": 41,
   "metadata": {},
   "outputs": [
    {
     "data": {
      "text/plain": [
       "array([6, 1, 6, 5, 7, 6, 0, 9, 0, 7])"
      ]
     },
     "execution_count": 41,
     "metadata": {},
     "output_type": "execute_result"
    }
   ],
   "source": [
    "ages\n"
   ]
  },
  {
   "cell_type": "code",
   "execution_count": 42,
   "metadata": {},
   "outputs": [
    {
     "data": {
      "text/plain": [
       "np.int64(7)"
      ]
     },
     "execution_count": 42,
     "metadata": {},
     "output_type": "execute_result"
    }
   ],
   "source": [
    "c=np.argmax(ages)\n",
    "c\n"
   ]
  },
  {
   "cell_type": "code",
   "execution_count": 43,
   "metadata": {},
   "outputs": [
    {
     "data": {
      "text/plain": [
       "np.str_('parrot')"
      ]
     },
     "execution_count": 43,
     "metadata": {},
     "output_type": "execute_result"
    }
   ],
   "source": [
    "birds[c]\n"
   ]
  },
  {
   "cell_type": "code",
   "execution_count": 44,
   "metadata": {},
   "outputs": [],
   "source": [
    "# You are a Teaching Assistant of the DSML course. You have access to every student’s marks in every quiz. The marks are stored in a matrix where matrix[i][j] represents the marks of the ith student in the jth quiz.\n",
    "\n",
    "# The course instructor wants you to sort the marks of students according to jth quiz in increasing order so that he can evaluate the performance of students in that particular quiz.\n",
    "\n",
    "# Here, you have to create a python program using which the instructor can sort the data on the basis of a given column(quiz). The program will return the matrix with the marks sorted in jth quiz.\n",
    "\n",
    "# The dimension of the input matrix is m× n, the output is expected to be a 2d numpy matrix of dimension mxn, but in the output the jth column must be arranged in the ascending order.\n",
    "\n",
    "# Note: The input will be 2D list not array. First convert it to array.\n",
    "\n",
    "# Input Format:\n",
    "\n",
    "# Number of test cases\n",
    "# For each test case, number of rows for matrix and the column to be sorted in a new line.\n",
    "# For each row in matrix, space separated integers are taken as input in a new line.\n",
    "# Output Format:\n",
    "\n",
    "# The 2D matrix, or each row in matrix space separated integers\n",
    "# Sample Input:\n",
    "\n",
    "#ToDO\n",
    "\n",
    "# 1\n",
    "# 3 2 \n",
    "# 5 3 9\n",
    "# 2 1 4\n",
    "# 7 6 8\n",
    "# Sample Output:\n",
    "\n",
    "# [[2 1 4]\n",
    "#  [5 3 9]\n",
    "#  [7 6 8]]\n",
    "# Explanation:\n",
    "\n",
    "# The 2nd column of the matrix is [3, 1, 6], the column after sorting becomes [1, 3, 6].\n",
    "\n",
    "# Note: While sorting the marks, take care of rearranging the relative order of rows too. As, [2 1 4] is a row at index 1 in the original matrix,\n",
    "#  but after sorting the 2nd column, we had to rearrange its order as mentioned in the sample output.\n"
   ]
  },
  {
   "cell_type": "code",
   "execution_count": null,
   "metadata": {},
   "outputs": [
    {
     "data": {
      "text/plain": [
       "np.int64(4)"
      ]
     },
     "execution_count": 59,
     "metadata": {},
     "output_type": "execute_result"
    }
   ],
   "source": [
    "# Given a NumPy array, return the index of the first element that is greater than the target passed as an argument.\n",
    "\n",
    "# Return -1, if there isn't any element greater than the target.\n",
    "\n",
    "# Input Format:\n",
    "\n",
    "# First line will have a list which is later typecasted to NumPy array\n",
    "# Second line will have an integer representing target\n",
    "# Output Format:\n",
    "\n",
    "# A NumPy array consisting of one index\n",
    "# Sample Input:\n",
    "\n",
    "# arr = [-1,2,3,-4,5]\n",
    "# target = 3\n",
    "# Sample Output:\n",
    "\n",
    "# [4]\n",
    "# Sample Explanation:\n",
    "\n",
    "# The first element greater than 3 in the array is 5 present at index 4, therefore a NumPy array of integer 4 is returned.\n",
    "\n",
    "\n",
    "# Note: You are not expected to use any loop.\n",
    "\n",
    "arr=np.array([-1,2,3,-4,5,6])\n",
    "target=3\n",
    "indx=np.argmax(arr>target)\n",
    "indx\n",
    "# arr=arr[indx]\n",
    "# arg max normally gives the highest value indx , when passed with a condition it gives the first occurrance value\n"
   ]
  },
  {
   "cell_type": "code",
   "execution_count": null,
   "metadata": {},
   "outputs": [],
   "source": []
  }
 ],
 "metadata": {
  "kernelspec": {
   "display_name": "Python 3",
   "language": "python",
   "name": "python3"
  },
  "language_info": {
   "codemirror_mode": {
    "name": "ipython",
    "version": 3
   },
   "file_extension": ".py",
   "mimetype": "text/x-python",
   "name": "python",
   "nbconvert_exporter": "python",
   "pygments_lexer": "ipython3",
   "version": "3.12.3"
  }
 },
 "nbformat": 4,
 "nbformat_minor": 2
}
